{
  "nbformat": 4,
  "nbformat_minor": 0,
  "metadata": {
    "colab": {
      "provenance": []
    },
    "kernelspec": {
      "name": "python3",
      "display_name": "Python 3"
    },
    "language_info": {
      "name": "python"
    }
  },
  "cells": [
    {
      "cell_type": "markdown",
      "source": [
        "#Student Performance on an Entrance Examination"
      ],
      "metadata": {
        "id": "lelqi9j_TtC1"
      }
    },
    {
      "cell_type": "code",
      "execution_count": null,
      "metadata": {
        "id": "8UNdjeUCS4TN"
      },
      "outputs": [],
      "source": [
        "import pandas as pd\n",
        "import numpy as np\n",
        "import seaborn as sns\n",
        "import matplotlib.pyplot as plt"
      ]
    },
    {
      "cell_type": "code",
      "source": [
        "Data=pd.read_csv('/content/Student_Performance_on_an_Entrance_Examination.csv')\n",
        "print(Data.head())"
      ],
      "metadata": {
        "id": "OigNDdYeT7gY"
      },
      "execution_count": null,
      "outputs": []
    },
    {
      "cell_type": "code",
      "source": [
        "Data.isna().sum() #Returns sum of null values"
      ],
      "metadata": {
        "id": "VWgC0DABVC1e"
      },
      "execution_count": null,
      "outputs": []
    },
    {
      "cell_type": "code",
      "source": [
        "Data.info()"
      ],
      "metadata": {
        "id": "B3i-AfJEV7rI"
      },
      "execution_count": null,
      "outputs": []
    },
    {
      "cell_type": "code",
      "source": [
        "Data.describe(include=\"all\") #Displays the stats of numerical,categorial and object type stats from a dataframe"
      ],
      "metadata": {
        "id": "uiUlNV98WBWt"
      },
      "execution_count": null,
      "outputs": []
    },
    {
      "cell_type": "code",
      "source": [
        "sel_cols=[\"Gender\",\"coaching\",\"Class_ten_education\",\"twelve_education\",\"medium\",\"Class_X_Percentage\",\"Class_XII_Percentage\"]\n",
        "for col in sel_cols:\n",
        "    sns.histplot(x=col,data=Data,kde=True)\n",
        "    plt.show()"
      ],
      "metadata": {
        "id": "cdnb6NtwWl9D"
      },
      "execution_count": null,
      "outputs": []
    },
    {
      "cell_type": "code",
      "source": [
        "Data.nunique() #Returns no of unique value from each column in a dataframe\n"
      ],
      "metadata": {
        "id": "xRI5BMrUYqct"
      },
      "execution_count": null,
      "outputs": []
    },
    {
      "cell_type": "code",
      "source": [
        "\n",
        "# List of columns to analyze against 'Performance'\n",
        "columns_to_analyze = ['Gender','Caste', 'coaching', 'Class_ten_education', 'twelve_education', 'medium', 'Class_X_Percentage', 'Class_XII_Percentage','time']\n",
        "\n",
        "for col in columns_to_analyze:\n",
        "    plt.figure(figsize=(8, 6))\n",
        "    sns.countplot(x=col, hue='Performance', data=Data)\n",
        "    plt.title(f'Distribution of Performance by {col}')\n",
        "    plt.xlabel(col)\n",
        "    plt.ylabel('Count')\n",
        "    plt.show()"
      ],
      "metadata": {
        "id": "aS27b0UHZoID"
      },
      "execution_count": null,
      "outputs": []
    },
    {
      "cell_type": "code",
      "source": [
        "categorical_cols = ['Gender','medium','coaching']\n",
        "#cols=['Gender','medium','coaching']\n",
        "for cols in categorical_cols:\n",
        "  if cols in Data.columns:  # Check if the column exists\n",
        "    Data[cols] = Data[cols].astype('category').cat.codes #Converts each categorical column into a numeric category code,Handles missing values by assigning -1 to NaNs.\n",
        "Data.head()"
      ],
      "metadata": {
        "id": "6IPH7PLmcLVd"
      },
      "execution_count": null,
      "outputs": []
    },
    {
      "cell_type": "code",
      "source": [
        "Data.head()"
      ],
      "metadata": {
        "id": "HsOKWA5AdvB-"
      },
      "execution_count": null,
      "outputs": []
    },
    {
      "cell_type": "code",
      "source": [
        "Data.info()"
      ],
      "metadata": {
        "id": "Na8oWFBL9h7i"
      },
      "execution_count": null,
      "outputs": []
    }
  ]
}