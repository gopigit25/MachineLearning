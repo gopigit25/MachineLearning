{
  "nbformat": 4,
  "nbformat_minor": 0,
  "metadata": {
    "colab": {
      "provenance": []
    },
    "kernelspec": {
      "name": "python3",
      "display_name": "Python 3"
    },
    "language_info": {
      "name": "python"
    }
  },
  "cells": [
    {
      "cell_type": "code",
      "source": [
        " #task-1 creating and modifying an array"
      ],
      "metadata": {
        "id": "qY687CtBn39z"
      },
      "execution_count": null,
      "outputs": []
    },
    {
      "cell_type": "code",
      "execution_count": null,
      "metadata": {
        "colab": {
          "base_uri": "https://localhost:8080/"
        },
        "id": "0ZxbxBgNnIht",
        "outputId": "74daf377-4275-45d4-94f1-e2bd5227e5eb"
      },
      "outputs": [
        {
          "output_type": "stream",
          "name": "stdout",
          "text": [
            "modified array [3, 7, 8, 5, 9]\n"
          ]
        }
      ],
      "source": [
        "arr=[3,7,8,6,9]\n",
        "arr[3]=5\n",
        "print(\"modified array\",arr)"
      ]
    },
    {
      "cell_type": "code",
      "source": [
        "#task-2 finding min,max and mean"
      ],
      "metadata": {
        "id": "3z-3aRvUoTMc"
      },
      "execution_count": null,
      "outputs": []
    },
    {
      "cell_type": "code",
      "source": [
        "import numpy as np\n",
        "arr= ([9,4,1,8,5])\n",
        "print(\"min:\",np.min(arr))\n",
        "print(\"max:\",np.max(arr))\n",
        "print(\"mean:\",np.mean(arr))"
      ],
      "metadata": {
        "colab": {
          "base_uri": "https://localhost:8080/"
        },
        "id": "b6zDMwG8nNiK",
        "outputId": "bfd11fc4-021d-4933-c361-08a8ca20ca02"
      },
      "execution_count": null,
      "outputs": [
        {
          "output_type": "stream",
          "name": "stdout",
          "text": [
            "min: 1\n",
            "max: 9\n",
            "mean: 5.4\n"
          ]
        }
      ]
    },
    {
      "cell_type": "code",
      "source": [
        "#task-3 reshaping and flattening an array"
      ],
      "metadata": {
        "id": "Ho51eFZaoYrq"
      },
      "execution_count": null,
      "outputs": []
    },
    {
      "cell_type": "code",
      "source": [
        "import numpy as np\n",
        "arr = np.arange(1, 13)\n",
        "reshaped_arr = arr.reshape(4, 3)\n",
        "print(\"Reshaped array\", reshaped_arr)\n",
        "flattened_arr = reshaped_arr.flatten()\n",
        "print(\"Flattened Array:\", flattened_arr)\n"
      ],
      "metadata": {
        "colab": {
          "base_uri": "https://localhost:8080/"
        },
        "id": "8I1lHtjTnTjb",
        "outputId": "f50622f0-23bc-4782-e5ba-61495236c958"
      },
      "execution_count": null,
      "outputs": [
        {
          "output_type": "stream",
          "name": "stdout",
          "text": [
            "Reshaped array [[ 1  2  3]\n",
            " [ 4  5  6]\n",
            " [ 7  8  9]\n",
            " [10 11 12]]\n",
            "Flattened Array: [ 1  2  3  4  5  6  7  8  9 10 11 12]\n"
          ]
        }
      ]
    },
    {
      "cell_type": "code",
      "source": [
        "#Task 4: Create two 2×2 arrays and stack them vertically & horizontally"
      ],
      "metadata": {
        "id": "_0nsqA9YohlQ"
      },
      "execution_count": null,
      "outputs": []
    },
    {
      "cell_type": "code",
      "source": [
        "a = np.array([[1, 2], [3, 4]])\n",
        "b = np.array([[5, 6], [7, 8]])\n",
        "vertical_stack = np.vstack((a,b))\n",
        "horizontal_stack = np.hstack((a,b))\n",
        "print(\"Vertically Stacked:\\n\", vertical_stack)\n",
        "print(\"Horizontally Stacked:\\n\", horizontal_stack)"
      ],
      "metadata": {
        "colab": {
          "base_uri": "https://localhost:8080/"
        },
        "id": "GY__EZ-End4A",
        "outputId": "e737abdd-7906-4f72-c672-14027a5d0f1a"
      },
      "execution_count": null,
      "outputs": [
        {
          "output_type": "stream",
          "name": "stdout",
          "text": [
            "Vertically Stacked:\n",
            " [[1 2]\n",
            " [3 4]\n",
            " [5 6]\n",
            " [7 8]]\n",
            "Horizontally Stacked:\n",
            " [[1 2 5 6]\n",
            " [3 4 7 8]]\n"
          ]
        }
      ]
    },
    {
      "cell_type": "code",
      "source": [
        "#Task 5: Convert a 1D array of size 9 into a 3×3 matrix"
      ],
      "metadata": {
        "id": "kfaNaWPXolrX"
      },
      "execution_count": null,
      "outputs": []
    },
    {
      "cell_type": "code",
      "source": [
        "a= np.arange(1, 10).reshape(3, 3)\n",
        "print(\"3x3 Matrix:\\n\", a)"
      ],
      "metadata": {
        "colab": {
          "base_uri": "https://localhost:8080/"
        },
        "id": "kKWAL085nseU",
        "outputId": "064fc751-805a-4b54-94ca-dea1a84a2059"
      },
      "execution_count": null,
      "outputs": [
        {
          "output_type": "stream",
          "name": "stdout",
          "text": [
            "3x3 Matrix:\n",
            " [[1 2 3]\n",
            " [4 5 6]\n",
            " [7 8 9]]\n"
          ]
        }
      ]
    },
    {
      "cell_type": "code",
      "source": [
        "#task 6: Create an array from 1 to 10 and reverse it"
      ],
      "metadata": {
        "id": "MQnKN18TovUi"
      },
      "execution_count": null,
      "outputs": []
    },
    {
      "cell_type": "code",
      "source": [
        "a = np.arange(1, 11)[::-1]\n",
        "print(\"Reversed Array:\", a)"
      ],
      "metadata": {
        "colab": {
          "base_uri": "https://localhost:8080/"
        },
        "id": "TU7nx3finwjw",
        "outputId": "03d54eea-4fbf-481f-f027-4362238747e9"
      },
      "execution_count": null,
      "outputs": [
        {
          "output_type": "stream",
          "name": "stdout",
          "text": [
            "Reversed Array: [10  9  8  7  6  5  4  3  2  1]\n"
          ]
        }
      ]
    },
    {
      "cell_type": "code",
      "source": [],
      "metadata": {
        "id": "AHWR8lYvn0g5"
      },
      "execution_count": null,
      "outputs": []
    }
  ]
}